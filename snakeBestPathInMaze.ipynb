{
 "cells": [
  {
   "cell_type": "markdown",
   "id": "bb5b1269",
   "metadata": {},
   "source": [
    "# CS-351 - Lab 3 Home Task\n",
    "\n",
    "- Name: Mohsin Zia\n",
    "- Reg # 2020244\n",
    "- Instructor: Sir Muneeb"
   ]
  },
  {
   "cell_type": "markdown",
   "id": "9c27ee66",
   "metadata": {},
   "source": [
    "### Generating A Maze Map As Required!"
   ]
  },
  {
   "cell_type": "markdown",
   "id": "72b1df74",
   "metadata": {},
   "source": [
    "##### Using a list for mapping, \"S\" is the Starting Point and \"G\" is the Goal to reach"
   ]
  },
  {
   "cell_type": "code",
   "execution_count": 270,
   "id": "c3a6e4a7",
   "metadata": {},
   "outputs": [],
   "source": [
    "def generateMazeMap():\n",
    "    mazeMap = []\n",
    "    mazeMap.append([\"S\",\"#\", \"#\", \"#\", \"#\", \"#\",\"#\"])\n",
    "    mazeMap.append([\".\",\".\", \"#\", \".\", \".\", \".\",\"#\"])\n",
    "    mazeMap.append([\"#\",\".\", \".\", \".\", \"#\", \".\",\"#\"])\n",
    "    mazeMap.append([\"#\",\".\", \".\", \"#\", \"#\", \".\",\"#\"])\n",
    "    mazeMap.append([\"#\",\".\", \"#\", \".\", \"#\", \".\",\"#\"])\n",
    "    mazeMap.append([\"#\",\"#\", \".\", \".\", \".\", \".\",\".\"])\n",
    "    mazeMap.append([\"#\",\"#\", \"#\", \"#\", \"#\", \"#\",\"G\"])\n",
    "\n",
    "    return mazeMap"
   ]
  },
  {
   "cell_type": "code",
   "execution_count": null,
   "id": "921d8426",
   "metadata": {},
   "outputs": [],
   "source": []
  },
  {
   "cell_type": "code",
   "execution_count": 361,
   "id": "514d819c",
   "metadata": {},
   "outputs": [],
   "source": [
    "def printMaze(maze, path=\".\"):\n",
    "    for x, pos in enumerate(maze[0]):\n",
    "        if pos == \"S\":\n",
    "            start = x\n",
    "\n",
    "    lastIndex = len(maze)-1\n",
    "    i = start\n",
    "    j = 0\n",
    "    pos = set()\n",
    "    for move in path:\n",
    "        if move == \"L\":\n",
    "            i -= 1\n",
    "\n",
    "        elif move == \"R\":\n",
    "            i += 1\n",
    "\n",
    "        elif move == \"U\":\n",
    "            j -= 1\n",
    "\n",
    "        elif move == \"D\":\n",
    "            j += 1\n",
    "        pos.add((j, i))\n",
    "        \n",
    "    pos.add((0, 0))    \n",
    "    for j, row in enumerate(maze):\n",
    "        for i, col in enumerate(row):\n",
    "            if (j, i) in pos:\n",
    "                if(j, i+1) in pos:\n",
    "                    print(\"→ \", end=\"\")\n",
    "#                 elif(j, i-1) in position:\n",
    "#                     print(\"↓ \", end=\"\")\n",
    "                elif(j+1, i) in pos:\n",
    "                    print(\"↓ \", end=\"\")\n",
    "                elif(j-1, i) in pos:\n",
    "                    if(j == 6 and i == 6):\n",
    "                        print(\"G \", end=\"\")\n",
    "                    else:\n",
    "                        print(\"↑ \", end=\"\")                    \n",
    "                else:\n",
    "                    print(\"* \", end=\"\")\n",
    "                    \n",
    "            else:\n",
    "                print(col + \" \", end=\"\")\n",
    "        print()\n",
    "    \n",
    "    #array = list(pos)\n",
    "    print(\"\\nPathTaken= \",sorted(pos))\n",
    "    #print(type(pos))"
   ]
  },
  {
   "cell_type": "code",
   "execution_count": 362,
   "id": "fdb585e8",
   "metadata": {},
   "outputs": [],
   "source": [
    "def valid(maze, moves):\n",
    "    for x, pos in enumerate(maze[0]):\n",
    "        if pos == \"S\":\n",
    "            start = x\n",
    "\n",
    "    i = start\n",
    "    j = 0\n",
    "    for move in moves:\n",
    "        if move == \"L\":\n",
    "            i -= 1\n",
    "\n",
    "        elif move == \"R\":\n",
    "            i += 1\n",
    "\n",
    "        elif move == \"U\":\n",
    "            j -= 1\n",
    "\n",
    "        elif move == \"D\":\n",
    "            j += 1\n",
    "\n",
    "        if not(0 <= i < len(maze[0]) and 0 <= j < len(maze)):\n",
    "            return False\n",
    "        elif (maze[j][i] == \"#\"):\n",
    "            return False\n",
    "\n",
    "    return True"
   ]
  },
  {
   "cell_type": "code",
   "execution_count": 365,
   "id": "70a7353c",
   "metadata": {},
   "outputs": [],
   "source": [
    "def findEnd(maze, moves):\n",
    "    for x, pos in enumerate(maze[0]):\n",
    "        if pos == \"S\":\n",
    "            start = x\n",
    "    counter = 0\n",
    "    i = start\n",
    "    j = 0\n",
    "    for move in moves:\n",
    "        if move == \"L\":\n",
    "            i -= 1\n",
    "            counter = counter+1\n",
    "            \n",
    "        elif move == \"R\":\n",
    "            i += 1\n",
    "            counter = counter+1\n",
    "\n",
    "        elif move == \"U\":\n",
    "            j -= 1\n",
    "            counter = counter+1\n",
    "\n",
    "        elif move == \"D\":\n",
    "            j += 1\n",
    "            counter = counter+1\n",
    "\n",
    "    if maze[j][i] == \"G\":\n",
    "        \n",
    "        printMaze(maze, moves)\n",
    "        print(\"\\nDirections :\",moves , \"\\ntotalCost =\", counter)\n",
    "        return True\n",
    "\n",
    "    return False\n"
   ]
  },
  {
   "cell_type": "code",
   "execution_count": 368,
   "id": "0950abd5",
   "metadata": {},
   "outputs": [
    {
     "name": "stdout",
     "output_type": "stream",
     "text": [
      "↓ # # # # # # \n",
      "→ ↓ # → → ↓ # \n",
      "# → → ↑ # ↓ # \n",
      "# . . # # ↓ # \n",
      "# . # . # ↓ # \n",
      "# # . . . → ↓ \n",
      "# # # # # # G \n",
      "\n",
      "PathTaken=  [(0, 0), (1, 0), (1, 1), (1, 3), (1, 4), (1, 5), (2, 1), (2, 2), (2, 3), (2, 5), (3, 5), (4, 5), (5, 5), (5, 6), (6, 6)]\n",
      "\n",
      "Directions : DRDRRURRDDDDRD \n",
      "totalCost = 14\n"
     ]
    }
   ],
   "source": [
    "import queue\n",
    "\n",
    "lis = queue.Queue()\n",
    "lis.put(\"\")\n",
    "add = \"\"\n",
    "maze  = generateMazeMap()\n",
    "\n",
    "while not findEnd(maze, add):\n",
    "   \n",
    "    add = lis.get()\n",
    "   \n",
    "    for j in [\"L\", \"R\", \"U\", \"D\"]:\n",
    "        put = add + j\n",
    "        if valid(maze, put):\n",
    "            lis.put(put)\n"
   ]
  },
  {
   "cell_type": "code",
   "execution_count": 367,
   "id": "37150fe6",
   "metadata": {},
   "outputs": [],
   "source": [
    "#"
   ]
  },
  {
   "cell_type": "code",
   "execution_count": null,
   "id": "d4a1dee4",
   "metadata": {},
   "outputs": [],
   "source": []
  }
 ],
 "metadata": {
  "kernelspec": {
   "display_name": "Python 3 (ipykernel)",
   "language": "python",
   "name": "python3"
  },
  "language_info": {
   "codemirror_mode": {
    "name": "ipython",
    "version": 3
   },
   "file_extension": ".py",
   "mimetype": "text/x-python",
   "name": "python",
   "nbconvert_exporter": "python",
   "pygments_lexer": "ipython3",
   "version": "3.9.13"
  }
 },
 "nbformat": 4,
 "nbformat_minor": 5
}
